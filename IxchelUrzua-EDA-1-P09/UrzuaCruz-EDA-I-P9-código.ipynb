{
 "cells": [
  {
   "cell_type": "markdown",
   "id": "2010aa23",
   "metadata": {},
   "source": [
    "# Variables y tipos\n",
    "Esta implicito el tipo de variable, no es necesario colocar;\n",
    "\n",
    "Este código imprime lo que contiene la variable x y la variable cadena"
   ]
  },
  {
   "cell_type": "code",
   "execution_count": 1,
   "id": "0d39b342",
   "metadata": {},
   "outputs": [
    {
     "name": "stdout",
     "output_type": "stream",
     "text": [
      "10\n",
      "Hola Mundo\n"
     ]
    }
   ],
   "source": [
    "#Inicializandovariables\n",
    "x=10         #variable de tipo entero\n",
    "print(x)     #Funcion para imprimir los valores de las variables\n",
    "\n",
    "cadena=\"Hola Mundo\"  #variable de tipo cadena\n",
    "print(cadena)"
   ]
  },
  {
   "cell_type": "markdown",
   "id": "92660543",
   "metadata": {},
   "source": [
    "Se le asigna un mismo valor a 3 variables y se imprime"
   ]
  },
  {
   "cell_type": "code",
   "execution_count": 2,
   "id": "e8889da2",
   "metadata": {},
   "outputs": [
    {
     "name": "stdout",
     "output_type": "stream",
     "text": [
      "10 10 10\n"
     ]
    }
   ],
   "source": [
    "x=y=z=10\n",
    "print(x,y,z)"
   ]
  },
  {
   "cell_type": "markdown",
   "id": "76e51d7f",
   "metadata": {},
   "source": [
    "La función type permite conocer el tipo de una variable en python"
   ]
  },
  {
   "cell_type": "code",
   "execution_count": 6,
   "id": "d7ea6d96",
   "metadata": {},
   "outputs": [
    {
     "data": {
      "text/plain": [
       "int"
      ]
     },
     "execution_count": 6,
     "metadata": {},
     "output_type": "execute_result"
    }
   ],
   "source": [
    "type(x)"
   ]
  },
  {
   "cell_type": "markdown",
   "id": "a1c4b464",
   "metadata": {},
   "source": [
    "Conozcamos que tipo de dato es cadena"
   ]
  },
  {
   "cell_type": "code",
   "execution_count": 7,
   "id": "16d1c547",
   "metadata": {},
   "outputs": [
    {
     "data": {
      "text/plain": [
       "str"
      ]
     },
     "execution_count": 7,
     "metadata": {},
     "output_type": "execute_result"
    }
   ],
   "source": [
    "type(cadena)"
   ]
  },
  {
   "cell_type": "markdown",
   "id": "6094725d",
   "metadata": {},
   "source": [
    "Se pueden cambiar los valores de las variables y el tipo se cambia automáticamene"
   ]
  },
  {
   "cell_type": "code",
   "execution_count": 13,
   "id": "d64987ce",
   "metadata": {},
   "outputs": [],
   "source": [
    "x= \"Hola Mundo\"\n",
    "cadena =10"
   ]
  },
  {
   "cell_type": "code",
   "execution_count": 14,
   "id": "3c46ee1b",
   "metadata": {},
   "outputs": [
    {
     "data": {
      "text/plain": [
       "str"
      ]
     },
     "execution_count": 14,
     "metadata": {},
     "output_type": "execute_result"
    }
   ],
   "source": [
    "type (x)"
   ]
  },
  {
   "cell_type": "code",
   "execution_count": 16,
   "id": "4b3361de",
   "metadata": {},
   "outputs": [
    {
     "data": {
      "text/plain": [
       "int"
      ]
     },
     "execution_count": 16,
     "metadata": {},
     "output_type": "execute_result"
    }
   ],
   "source": [
    "type(cadena)"
   ]
  },
  {
   "cell_type": "markdown",
   "id": "85776595",
   "metadata": {},
   "source": [
    "La variable tiene un valor constante y por convección se escribe en mayúsculas"
   ]
  },
  {
   "cell_type": "code",
   "execution_count": 17,
   "id": "7f7bf15a",
   "metadata": {},
   "outputs": [],
   "source": [
    "SEGUNDOS_POR_DIA = 60*60*24\n",
    "Pi= 3.14"
   ]
  },
  {
   "cell_type": "markdown",
   "id": "d7c9026a",
   "metadata": {},
   "source": [
    "# CADENAS"
   ]
  },
  {
   "cell_type": "markdown",
   "id": "f2d711ff",
   "metadata": {},
   "source": [
    "Pueden ser definidas usando comilla simple (') o comilla doble (\"). Una característica especial de las cadenas es que son inmutables, esto quiere decir que no se pueden cambiar los caracteres que contiene. El caracter \\ sirve para escapar carcteres\n",
    "como \\n o \\t."
   ]
  },
  {
   "cell_type": "code",
   "execution_count": 20,
   "id": "1f4f3a62",
   "metadata": {},
   "outputs": [
    {
     "name": "stdout",
     "output_type": "stream",
     "text": [
      "Hola\n",
      "Mundo\n",
      "HolaMundo\n"
     ]
    }
   ],
   "source": [
    "cadena1 = 'Hola'\n",
    "cadena2 = \"Mundo\"\n",
    "print(cadena1)\n",
    "print(cadena2)\n",
    "concat_cadenas = cadena1 + cadena2   #Concatenación de cadenas\n",
    "print (concat_cadenas)"
   ]
  },
  {
   "cell_type": "markdown",
   "id": "62ff6025",
   "metadata": {},
   "source": [
    "Para concatenar un numero y una cadena se debe usar La funcion str()"
   ]
  },
  {
   "cell_type": "code",
   "execution_count": 21,
   "id": "11a8c7a5",
   "metadata": {},
   "outputs": [
    {
     "name": "stdout",
     "output_type": "stream",
     "text": [
      "HolaMundo 3\n"
     ]
    }
   ],
   "source": [
    "num_cadena = concat_cadenas +' '+ str(3)    #Se agrega una cadena vacia para agregar un espacio\n",
    "print(num_cadena)"
   ]
  },
  {
   "cell_type": "markdown",
   "id": "a804a539",
   "metadata": {},
   "source": [
    "Para concatenar cadenas se recomienda el uso de la función format(), en lugar del viejo\n",
    "estilo del operador '+'."
   ]
  },
  {
   "cell_type": "code",
   "execution_count": 22,
   "id": "87a18f44",
   "metadata": {},
   "outputs": [
    {
     "name": "stdout",
     "output_type": "stream",
     "text": [
      "Hola Mundo 3\n"
     ]
    }
   ],
   "source": [
    "#EL valor de la variable se va a imprimir en el lugar donde se encuentre {} en la cadena\n",
    "num_cadena = \"{} {} {}\".format(cadena1,cadena2, 3) \n",
    "print(num_cadena)"
   ]
  },
  {
   "cell_type": "markdown",
   "id": "ed9ac8b9",
   "metadata": {},
   "source": [
    "Por medio de la función format, se puede cambiar el orden en que se imprimen las variables"
   ]
  },
  {
   "cell_type": "markdown",
   "id": "3441f160",
   "metadata": {},
   "source": [
    "Cuando se agrega un número dentro de {#}, el valor la variable que se encuentro en esa posición dentro de la función format(), sera impreso "
   ]
  },
  {
   "cell_type": "code",
   "execution_count": 27,
   "id": "a4e5335c",
   "metadata": {},
   "outputs": [
    {
     "name": "stdout",
     "output_type": "stream",
     "text": [
      "Cambiando el orden: Mundo 3 Hola #*\n"
     ]
    }
   ],
   "source": [
    "num_cadena = \"Cambiando el orden: {1} {2} {0} #*\". format(cadena1, cadena2, 3)\n",
    "print (num_cadena)"
   ]
  },
  {
   "cell_type": "markdown",
   "id": "ea8811a9",
   "metadata": {},
   "source": [
    "# Operadores"
   ]
  },
  {
   "cell_type": "raw",
   "id": "22417c0d",
   "metadata": {},
   "source": [
    "Aritméticos: +,-,*,/"
   ]
  },
  {
   "cell_type": "code",
   "execution_count": 29,
   "id": "deadf0da",
   "metadata": {},
   "outputs": [
    {
     "name": "stdout",
     "output_type": "stream",
     "text": [
      "6\n",
      "18\n",
      "6\n",
      "2.0\n"
     ]
    }
   ],
   "source": [
    "print(1+5)\n",
    "print(6*3)\n",
    "print(10-4)\n",
    "print(100/50)"
   ]
  },
  {
   "cell_type": "markdown",
   "id": "8b347374",
   "metadata": {},
   "source": [
    "Booleanos: and, not, or"
   ]
  },
  {
   "cell_type": "code",
   "execution_count": 31,
   "id": "d967523d",
   "metadata": {},
   "outputs": [
    {
     "data": {
      "text/plain": [
       "False"
      ]
     },
     "execution_count": 31,
     "metadata": {},
     "output_type": "execute_result"
    }
   ],
   "source": [
    "False and True"
   ]
  },
  {
   "cell_type": "markdown",
   "id": "d0f76d23",
   "metadata": {},
   "source": [
    "Comparación: >, <, >=, <=, =="
   ]
  },
  {
   "cell_type": "code",
   "execution_count": 33,
   "id": "1a4b666b",
   "metadata": {},
   "outputs": [
    {
     "name": "stdout",
     "output_type": "stream",
     "text": [
      "False\n",
      "True\n",
      "True\n",
      "False\n",
      "True\n"
     ]
    }
   ],
   "source": [
    "print (7 < 5) #Falso\n",
    "print (7 > 5) #Verdadero\n",
    "print ((11 * 3)+2 == 36 - 1) #Verdadero\n",
    "print ((11 * 3)+2 >= 36)\n",
    "#Falso\n",
    "print (\"curso\" != \"CuRsO\") #Verdadero\n"
   ]
  },
  {
   "cell_type": "markdown",
   "id": "01a6646d",
   "metadata": {},
   "source": [
    "# Listas\n",
    "Valores que están separados por comas dentro de paréntesis cuadrados,compuesta por cualquier cantidad y/o tipo de datos, se puede acceder a las listas por medio de índices, estos índices comienzan desde 0 hasta el número de elementos menos 1. Son mutables.\n",
    "\n",
    "A continuación algunos ejemplos"
   ]
  },
  {
   "cell_type": "code",
   "execution_count": 37,
   "id": "707a43a8",
   "metadata": {},
   "outputs": [
    {
     "name": "stdout",
     "output_type": "stream",
     "text": [
      "[31, 28, 31, 30, 31, 30, 31, 31, 30, 31, 30, 31]\n",
      "31\n",
      "31\n",
      "31\n"
     ]
    }
   ],
   "source": [
    "#declaracion de una lista simple \n",
    "lista_diasDelMes=[31,28,31,30,31,30,31,31,30,31,30,31]\n",
    "print (lista_diasDelMes)    #imprimir la lista completa \n",
    "print (lista_diasDelMes[0]) #imprimir el elemento 1\n",
    "print (lista_diasDelMes[6]) #imprimir el elemento 7\n",
    "print (lista_diasDelMes[11])#imprimir el elemento 12"
   ]
  },
  {
   "cell_type": "code",
   "execution_count": 43,
   "id": "5b0179af",
   "metadata": {},
   "outputs": [
    {
     "name": "stdout",
     "output_type": "stream",
     "text": [
      "[['cero', 0], ['uno', 1, 'UNO'], ['dos,2'], ['tres', 3], ['cuatro', 4], ['x', 5]]\n",
      "['cero', 0]\n",
      "['uno', 1, 'UNO']\n",
      "dos,2\n",
      "uno\n",
      "1\n",
      "UNO\n"
     ]
    }
   ],
   "source": [
    "#declaracion de listas añadidas\n",
    "lista_numeros=[['cero', 0],['uno',1,'UNO'],['dos,2'],['tres',3],['cuatro',4],['x',5]]\n",
    "\n",
    "print (lista_numeros)#imprimir lista completa \n",
    "\n",
    "print (lista_numeros[0]) #imprime el elemento 0 de la lista \n",
    "print (lista_numeros[1]) #imprime el elemento 1 de la lista \n",
    "\n",
    "print (lista_numeros[2][0]) #imprime el primer elemtno de la lista en la posicion 2 \n",
    "\n",
    "print (lista_numeros[1][0])\n",
    "print (lista_numeros[1][1])\n",
    "print (lista_numeros[1][2])"
   ]
  },
  {
   "cell_type": "code",
   "execution_count": 45,
   "id": "6c3f820b",
   "metadata": {},
   "outputs": [
    {
     "name": "stdout",
     "output_type": "stream",
     "text": [
      "['cinco', 5]\n"
     ]
    }
   ],
   "source": [
    "# se cambia el valor de uno de los elementos de la lista \n",
    "lista_numeros[5][0] = \"cinco\"\n",
    "print (lista_numeros[5])"
   ]
  },
  {
   "cell_type": "markdown",
   "id": "0c8875a7",
   "metadata": {},
   "source": [
    "# Tuplas\n",
    "\n",
    "Son pareceidas a las listas, valores separados por una coma, las tuplas no son mutables.Se pueden aplicar las mismas operaciones que en as listas y su ventaja es que consumen menos memoria para almacenarse.Se crean, ya sea utilizando paréntesis o simplemente separando los valores por comas.\n",
    "\n",
    "A continuación algunos ejemplos"
   ]
  },
  {
   "cell_type": "code",
   "execution_count": 57,
   "id": "39141b70",
   "metadata": {},
   "outputs": [
    {
     "name": "stdout",
     "output_type": "stream",
     "text": [
      "(31, 28, 31, 30, 31, 30, 31, 31, 30, 31, 30, 31)\n",
      "28\n",
      "30\n",
      "28\n"
     ]
    }
   ],
   "source": [
    "# Declaracion de una tupla\n",
    "tupla_diasDelMes=(31,28,31,30,31,30,31,31,30,31,30,31)\n",
    "\n",
    "print (tupla_diasDelMes)      #imprimir la tupla completa\n",
    "print (tupla_diasDelMes[1])   #imprimir elemento 1\n",
    "print (tupla_diasDelMes [3])  #imprimir elemento 4\n",
    "print (tupla_diasDelMes[1])   #imprimir elemento 2"
   ]
  },
  {
   "cell_type": "code",
   "execution_count": 50,
   "id": "a5fe89d9",
   "metadata": {},
   "outputs": [
    {
     "name": "stdout",
     "output_type": "stream",
     "text": [
      "(('cero', 0), ('uno', 1, 'UNO'), ('dos', 2), ('tres', 3), ('cuatro', 4), ('X', 5))\n",
      "('cero', 0)\n",
      "('uno', 1, 'UNO')\n",
      "dos\n",
      "2\n",
      "uno\n",
      "1\n",
      "UNO\n"
     ]
    }
   ],
   "source": [
    "# Declaracion de cuplas anidadas\n",
    "tupla_numeros= (('cero', 0), ('uno',1, 'UNO'), ('dos',2), ('tres', 3), ('cuatro',4), ('X',5))\n",
    "\n",
    "print (tupla_numeros)       #imprimir tupla completa\n",
    "\n",
    "print (tupla_numeros [0])   #imprime el elemento 0 de la tupla\n",
    "print (tupla_numeros [1])   #imprime el elemento 1 de la tupla\n",
    "\n",
    "print (tupla_numeros [2][0])  #imprime el primer elemento de la tupla en la posicion 2\n",
    "print (tupla_numeros [2][1])  #imprime el segundo elemento de la tupla en la posicion 2\n",
    "\n",
    "print (tupla_numeros[1][0])\n",
    "print (tupla_numeros[1][1])\n",
    "print (tupla_numeros[1][2])\n"
   ]
  },
  {
   "cell_type": "code",
   "execution_count": 56,
   "id": "d72b5643",
   "metadata": {},
   "outputs": [
    {
     "name": "stdout",
     "output_type": "stream",
     "text": [
      "valor actual 31\n",
      "valor cambiado 50\n"
     ]
    }
   ],
   "source": [
    "#Probando la mutabilidad de las listas vs la no mutabilidad de las tuplas\n",
    "print (\"valor actual {}\". format (lista_diasDelMes[0]))\n",
    "lista_diasDelMes[0] = 50\n",
    "print (\"valor cambiado {}\". format (lista_diasDelMes[0]))\n",
    "tuplas_diasDelmes0 = 50 #Esta asignacion manda un error va que no se pueden cambiar los valores\n"
   ]
  },
  {
   "cell_type": "markdown",
   "id": "0b2627ba",
   "metadata": {},
   "source": [
    "# Tupla con nombre\n",
    "En comparación con las tuplas anteriores, este tipo especial de tuplas permite especificar\n",
    "un nombre para describirla.\n",
    "\n",
    "A continuación algunos ejemplos"
   ]
  },
  {
   "cell_type": "code",
   "execution_count": 60,
   "id": "c0973a48",
   "metadata": {},
   "outputs": [
    {
     "name": "stdout",
     "output_type": "stream",
     "text": [
      "planeta(nombre='Mercurio', numero=1)\n",
      "Mercurio 1\n",
      "Campos de la tupla: ()\n"
     ]
    }
   ],
   "source": [
    "#Se debe importar la librería para hacer uso de namedtuple\n",
    "from collections import namedtuple\n",
    "#Se crea la tupla con nombre\n",
    "#El primer argumento es el nombre de la tupla, mientras que el segundo argumento son los campo.\n",
    "#p es la referencia a la tupla\n",
    "planeta = namedtuple ('planeta', ['nombre','numero'])\n",
    "                                  \n",
    "#se crea el planeta 1 y se agregan a la tupla los valores correspondientes a los campos\n",
    "planetal = planeta ( 'Mercurio',1)\n",
    "print (planetal)\n",
    "                                  \n",
    "#Se crea el planeta 2\n",
    "planeta2 = planeta( 'Venus', 2)\n",
    "                                  \n",
    "#Se imprimen los valores de los campos\n",
    "#Usando a referencia se ama a cada uno de sus campos \n",
    "print (planetal. nombre, planetal. numero)\n",
    "#Se obtienen los valores por el orden de los campos print (planeta2[0], planeta2[1])\n",
    "print ('Campos de la tupla: ()'.format (planetal._fields))\n"
   ]
  },
  {
   "cell_type": "markdown",
   "id": "b0fa097f",
   "metadata": {},
   "source": [
    "# Diccionarios\n",
    "Se crea usando { } y consta de dos partes: llave y valor. Las llaves son inmutables, deben de tener un solo tipo de dato, una cadena o número y una vez creado, no se puede cambiar su tipo. El valor puede ser de cualquier tipo y se puede cambiar con el\n",
    "tiempo.Los elemntos en un diccionario no están ordenados.\n",
    "\n",
    "A continuación unos ejemplos"
   ]
  },
  {
   "cell_type": "code",
   "execution_count": 62,
   "id": "390e220b",
   "metadata": {},
   "outputs": [
    {
     "name": "stdout",
     "output_type": "stream",
     "text": [
      "{'hidrogeno': 1, 'helio': 2, 'carbon': 6}\n",
      "1\n"
     ]
    }
   ],
   "source": [
    "#Creando un diccionario\n",
    "elementos = {'hidrogeno': 1, 'helio': 2, 'carbon': 6 }\n",
    "             \n",
    "#EL momento de la impresion, pueden aparecer en diferente orden del introducido \n",
    "print (elementos)\n",
    "print (elementos ['hidrogeno' ])\n"
   ]
  },
  {
   "cell_type": "code",
   "execution_count": 63,
   "id": "fa04308e",
   "metadata": {},
   "outputs": [
    {
     "name": "stdout",
     "output_type": "stream",
     "text": [
      "{'hidrogeno': 1, 'helio': 2, 'carbon': 6, 'litio': 3, 'nitrogeno': 8}\n"
     ]
    }
   ],
   "source": [
    "#Se pueen agregar elementos al diccionario \n",
    "elementos ['litio'] = 3\n",
    "elementos [ 'nitrogeno']=8\n",
    "\n",
    "print (elementos) #Imprimiendo todos los elementos, nótese que los elementos no están ordenados\n"
   ]
  },
  {
   "cell_type": "code",
   "execution_count": 65,
   "id": "afbaf2e4",
   "metadata": {},
   "outputs": [
    {
     "name": "stdout",
     "output_type": "stream",
     "text": [
      "{'H': {'name': 'Hydrogen', 'number': 1, 'weight': 1.00794}, 'He': {'name': 'Hydrogen', 'number': 2, 'weight': 4.002602}}\n"
     ]
    }
   ],
   "source": [
    "#creando un nuevo diccionario\n",
    "elementos2 = {}\n",
    "elementos2 ['H']= {'name': 'Hydrogen', 'number': 1, 'weight': 1.00794}\n",
    "elementos2 ['He'] = {'name': 'Hydrogen', 'number': 2, 'weight': 4.002602}\n",
    "\n",
    "print (elementos2)"
   ]
  },
  {
   "cell_type": "code",
   "execution_count": 71,
   "id": "78e740f0",
   "metadata": {},
   "outputs": [
    {
     "name": "stdout",
     "output_type": "stream",
     "text": [
      "{'name': 'Hydrogen', 'number': 1, 'weight': 1.00794}\n",
      "Hydrogen\n",
      "1\n",
      "4.3\n"
     ]
    }
   ],
   "source": [
    "#Imprimiendo los datos de un elemento del diccionario\n",
    "print (elementos2[ 'H'])\n",
    "print (elementos2[ 'H']['name'])\n",
    "print (elementos2 [ 'H'][ 'number' ])\n",
    "elementos2['H']['weight']= 4.30    #Cambiando el valor de un elemento\n",
    "print (elementos2[ 'H' ][ 'weight'])\n"
   ]
  },
  {
   "cell_type": "code",
   "execution_count": 75,
   "id": "e1b1fe80",
   "metadata": {},
   "outputs": [
    {
     "name": "stdout",
     "output_type": "stream",
     "text": [
      "{'name': 'Hydrogen', 'number': 1, 'weight': 4.3, 'gas noble': True}\n"
     ]
    }
   ],
   "source": [
    "#Agregando elementos a una llave\n",
    "elementos2[ 'H'].update ({'gas noble':True})\n",
    "print (elementos2 ['H'])\n"
   ]
  },
  {
   "cell_type": "code",
   "execution_count": 76,
   "id": "4f505331",
   "metadata": {},
   "outputs": [
    {
     "name": "stdout",
     "output_type": "stream",
     "text": [
      "dict_items([('H', {'name': 'Hydrogen', 'number': 1, 'weight': 4.3, 'gas noble': True}), ('He', {'name': 'Hydrogen', 'number': 2, 'weight': 4.002602})])\n",
      "dict_keys(['H', 'He'])\n"
     ]
    }
   ],
   "source": [
    "#Muestra todos los elemencos del diccionario\n",
    "print (elementos2.items())\n",
    "\n",
    "#Muestra todas las llaves del diccionario\n",
    "print (elementos2.keys ())\n"
   ]
  },
  {
   "cell_type": "markdown",
   "id": "84567d0f",
   "metadata": {},
   "source": [
    "# Funciones\n",
    "Una función o procedimiento sirve para empaquetar código que sirve para ser reutilizado, se puede usar ese mismo código con diferentes entradas y obtener resultados o comportamiento de acuerdo con esos datos.\n",
    "\n",
    "A continuación algunos pequeños ejemplos"
   ]
  },
  {
   "cell_type": "code",
   "execution_count": 79,
   "id": "d0c00b39",
   "metadata": {},
   "outputs": [],
   "source": [
    "#Las funciones pueden recibir n número de parámetros, no se necesita indicar el tipc \n",
    "def imprime_nombre (nombre):\n",
    "    print (\"hola \" +nombre) #Las cadenas se pueden concacenar con el +\n"
   ]
  },
  {
   "cell_type": "code",
   "execution_count": 80,
   "id": "b3801bd4",
   "metadata": {},
   "outputs": [
    {
     "name": "stdout",
     "output_type": "stream",
     "text": [
      "hola JJ\n"
     ]
    }
   ],
   "source": [
    "#Llamada a la función \n",
    "imprime_nombre(\"JJ\")"
   ]
  },
  {
   "cell_type": "code",
   "execution_count": 82,
   "id": "82b212b4",
   "metadata": {},
   "outputs": [],
   "source": [
    "#Definiendo una función que regresa el cuadrado de un número \n",
    "def cuadrado (x):\n",
    "    return x**2"
   ]
  },
  {
   "cell_type": "code",
   "execution_count": 83,
   "id": "169a77ce",
   "metadata": {},
   "outputs": [
    {
     "name": "stdout",
     "output_type": "stream",
     "text": [
      "El cuadrado de 5 es 25\n"
     ]
    }
   ],
   "source": [
    "x=5\n",
    "#La función format()  sirve para convertir los parámetros que recibe, en cadenas; estos valores por las llaves de la cadena.\n",
    "print (\"El cuadrado de {} es {}\". format(x, cuadrado (x)) ) #La función cuadrado( ) regresa un valor\n"
   ]
  },
  {
   "cell_type": "code",
   "execution_count": 85,
   "id": "dd0fff86",
   "metadata": {},
   "outputs": [],
   "source": [
    "#Definiendo una función que regrese más de un valor\n",
    "def varios(x):\n",
    "    return x**2, x**3, x**4"
   ]
  },
  {
   "cell_type": "code",
   "execution_count": 86,
   "id": "41969d4d",
   "metadata": {},
   "outputs": [
    {
     "name": "stdout",
     "output_type": "stream",
     "text": [
      "4 8 16\n"
     ]
    }
   ],
   "source": [
    "#Los valores que regresa la función pueden ser guardado en variables separadas por ,\n",
    "vall,val2,val3= varios(2)\n",
    "print(\"{} {} {}\".format(vall, val2, val3))"
   ]
  },
  {
   "cell_type": "code",
   "execution_count": 92,
   "id": "1d0c3978",
   "metadata": {},
   "outputs": [],
   "source": [
    "#Función con un parámetro con un valor por defecto\n",
    "def cuadrado_default(x=3):\n",
    "    return x**2"
   ]
  },
  {
   "cell_type": "code",
   "execution_count": 93,
   "id": "f212a002",
   "metadata": {},
   "outputs": [
    {
     "data": {
      "text/plain": [
       "9"
      ]
     },
     "execution_count": 93,
     "metadata": {},
     "output_type": "execute_result"
    }
   ],
   "source": [
    "#Como la función tiene un valor por defailt, si se manda llamar la función sin especificar el parámetro\n",
    "#tiene por derecto \n",
    "cuadrado_default()"
   ]
  },
  {
   "cell_type": "markdown",
   "id": "41301826",
   "metadata": {},
   "source": [
    "# Idiom\n",
    "Cuando una función regresa más de un valor, se puede usar el operado '_', para no guardar un valor no deseado.\n"
   ]
  },
  {
   "cell_type": "code",
   "execution_count": 95,
   "id": "5d1e6e5d",
   "metadata": {},
   "outputs": [
    {
     "name": "stdout",
     "output_type": "stream",
     "text": [
      "4 16\n"
     ]
    }
   ],
   "source": [
    "#La función regresa tres, valores, pero sólo nos interesa el primero y el tercero\n",
    "val4, _, val5 = varios (2)\n",
    "print(\"{} {}\".format(val4, val5))\n"
   ]
  },
  {
   "cell_type": "markdown",
   "id": "fd9fc9c0",
   "metadata": {},
   "source": [
    "# Variables globales\n",
    "Se puede decir que el ambiente de ejecución es donde se efectúan las operaciones que componen un programa. Al momento de ejecutar un programa se crea un espacio de nombres para las variables. Hay dos tipos se espacio de nombres (espacio global y local). Las variables que se declaren afuera de las funciones pertenecen al espacio global y no se necesita añadir un modificador para declararlas de esta manera, todas las variables que se definen dentro de una función pertenecen al espacio local, estas variables sólo pueden ser reconocidas y usadas dentro de la propia función."
   ]
  },
  {
   "cell_type": "code",
   "execution_count": 96,
   "id": "7ac2721d",
   "metadata": {},
   "outputs": [],
   "source": [
    "#Se crea una variable en el espacio global de nombres\n",
    "vg= 'Global'\n"
   ]
  },
  {
   "cell_type": "code",
   "execution_count": 98,
   "id": "ff0a7f83",
   "metadata": {},
   "outputs": [],
   "source": [
    "#Se crea una funcion que imprime la variable global \n",
    "def funcion_v1():\n",
    "    print (vg)\n"
   ]
  },
  {
   "cell_type": "code",
   "execution_count": 99,
   "id": "2dfbc7e2",
   "metadata": {},
   "outputs": [
    {
     "name": "stdout",
     "output_type": "stream",
     "text": [
      "Global\n",
      "Global\n"
     ]
    }
   ],
   "source": [
    "#Llamada a la función que imprime la variable global \n",
    "funcion_v1 ()\n",
    "\n",
    "#Imprime la variable global\n",
    "print (vg)\n"
   ]
  },
  {
   "cell_type": "code",
   "execution_count": 100,
   "id": "ac5d0707",
   "metadata": {},
   "outputs": [],
   "source": [
    "#se crea una variable local que tiene el mismo nombre que la variable global\n",
    "def funcion_v2():\n",
    "    vg = \"Local\"\n",
    "    print (vg)\n"
   ]
  },
  {
   "cell_type": "code",
   "execution_count": 102,
   "id": "59b4c75c",
   "metadata": {},
   "outputs": [
    {
     "name": "stdout",
     "output_type": "stream",
     "text": [
      "Local\n",
      "Global\n"
     ]
    }
   ],
   "source": [
    "#Llamada a la función\n",
    "funcion_v2()         #Imprime valor local\n",
    "\n",
    "#Imprime la variable global\n",
    "print (vg)\n"
   ]
  },
  {
   "cell_type": "code",
   "execution_count": 103,
   "id": "e9f3e519",
   "metadata": {},
   "outputs": [],
   "source": [
    "#Se trata de imprimir el valor de la variable global, a diferencia de la función_v1(),\n",
    "#se creó en el espacio local de la funcion_V3() una variable con el mismo nombre,por lo que se reemblaza la variable global\n",
    "def funcion_v3 ():\n",
    "    print (vg)\n",
    "    vg = \"Local\"\n",
    "    print (vg)\n"
   ]
  },
  {
   "cell_type": "code",
   "execution_count": 104,
   "id": "88176dab",
   "metadata": {},
   "outputs": [
    {
     "ename": "UnboundLocalError",
     "evalue": "cannot access local variable 'vg' where it is not associated with a value",
     "output_type": "error",
     "traceback": [
      "\u001b[1;31m---------------------------------------------------------------------------\u001b[0m",
      "\u001b[1;31mUnboundLocalError\u001b[0m                         Traceback (most recent call last)",
      "Cell \u001b[1;32mIn[104], line 2\u001b[0m\n\u001b[0;32m      1\u001b[0m \u001b[38;5;66;03m#Como se tiene una variable local y no se le ha asignado un valor, se genera un error \u001b[39;00m\n\u001b[1;32m----> 2\u001b[0m \u001b[43mfuncion_v3\u001b[49m\u001b[43m \u001b[49m\u001b[43m(\u001b[49m\u001b[43m)\u001b[49m\n",
      "Cell \u001b[1;32mIn[103], line 4\u001b[0m, in \u001b[0;36mfuncion_v3\u001b[1;34m()\u001b[0m\n\u001b[0;32m      3\u001b[0m \u001b[38;5;28;01mdef\u001b[39;00m \u001b[38;5;21mfuncion_v3\u001b[39m ():\n\u001b[1;32m----> 4\u001b[0m     \u001b[38;5;28mprint\u001b[39m (\u001b[43mvg\u001b[49m)\n\u001b[0;32m      5\u001b[0m     vg \u001b[38;5;241m=\u001b[39m \u001b[38;5;124m\"\u001b[39m\u001b[38;5;124mLocal\u001b[39m\u001b[38;5;124m\"\u001b[39m\n\u001b[0;32m      6\u001b[0m     \u001b[38;5;28mprint\u001b[39m (vg)\n",
      "\u001b[1;31mUnboundLocalError\u001b[0m: cannot access local variable 'vg' where it is not associated with a value"
     ]
    }
   ],
   "source": [
    "#Como se tiene una variable local y no se le ha asignado un valor, se genera un error \n",
    "funcion_v3 ()"
   ]
  },
  {
   "cell_type": "code",
   "execution_count": 106,
   "id": "dd20f92a",
   "metadata": {},
   "outputs": [],
   "source": [
    "#Para resolver el problema anterior y especificar que se quiere hacer uso de la # variable global dentro de la función funcion_ V4 (),\n",
    "#se tiene que agregar la  palabra reservada global\n",
    "def funcion_v4 ():\n",
    "    global vg\n",
    "    print (vg)\n",
    "    vg = \"Local\"\n",
    "    print (vg)\n"
   ]
  },
  {
   "cell_type": "code",
   "execution_count": 107,
   "id": "69f81b4c",
   "metadata": {},
   "outputs": [
    {
     "name": "stdout",
     "output_type": "stream",
     "text": [
      "Global\n",
      "Local\n",
      "Local\n"
     ]
    }
   ],
   "source": [
    "\n",
    "#Al momento de ejecutar la runcion se imprime el valor que tenia asignado vg antes de se modificado por la función.\n",
    "#Después de asignar el valor, éste es impreso \n",
    "funcion_v4 () \n",
    "\n",
    "#Se imprime la variable global con su valor modificado\n",
    "print (vg)\n",
    "\n"
   ]
  },
  {
   "cell_type": "markdown",
   "id": "861733fe",
   "metadata": {},
   "source": [
    "El manejo de variables globales dentro de una función en el lenguaje Python seconsidera como una mala práctica, se recomienda que se pase como parámetro a la función y que se regrese un valor."
   ]
  },
  {
   "cell_type": "markdown",
   "id": "ef7323d3",
   "metadata": {},
   "source": [
    "# Estructuras de control selectivas\n",
    "\n",
    "# if\n",
    "La declaración IF sirve para ejecutar código dependiendo del resultado de una condición."
   ]
  },
  {
   "cell_type": "code",
   "execution_count": 113,
   "id": "b22ca2d3",
   "metadata": {},
   "outputs": [],
   "source": [
    "def obtenerMayor(param1,param2):\n",
    "    if param1 < param2:\n",
    "        print(\"{} en mayor que {}\". format(param2,param1))"
   ]
  },
  {
   "cell_type": "code",
   "execution_count": 114,
   "id": "5afac3f6",
   "metadata": {},
   "outputs": [
    {
     "name": "stdout",
     "output_type": "stream",
     "text": [
      "7 en mayor que 5\n"
     ]
    }
   ],
   "source": [
    "obtenerMayor(5, 7)"
   ]
  },
  {
   "cell_type": "markdown",
   "id": "62a85542",
   "metadata": {},
   "source": [
    "Se puede encadenar más de una condición sin tener que agregar un operador booleano"
   ]
  },
  {
   "cell_type": "code",
   "execution_count": 115,
   "id": "3ae38986",
   "metadata": {},
   "outputs": [
    {
     "name": "stdout",
     "output_type": "stream",
     "text": [
      "True\n"
     ]
    }
   ],
   "source": [
    "x=y=z=3\n",
    "if x-y-z:\n",
    "    print(True)"
   ]
  },
  {
   "cell_type": "markdown",
   "id": "4599b905",
   "metadata": {},
   "source": [
    "# if-else\n",
    "\n",
    "Este tipo de declaraciones se usan para dar una opción en el caso de que la condición no se cumpla."
   ]
  },
  {
   "cell_type": "code",
   "execution_count": 117,
   "id": "39107edc",
   "metadata": {},
   "outputs": [],
   "source": [
    "def obtenerMayorv2(param1,param2):\n",
    "    if param1<param2:\n",
    "        return param2\n",
    "    else:\n",
    "        return param1"
   ]
  },
  {
   "cell_type": "code",
   "execution_count": 118,
   "id": "619652ba",
   "metadata": {},
   "outputs": [
    {
     "name": "stdout",
     "output_type": "stream",
     "text": [
      "El mayor es 20\n"
     ]
    }
   ],
   "source": [
    "print (\"El mayor es {}\". format(obtenerMayorv2(4,20)))"
   ]
  },
  {
   "cell_type": "code",
   "execution_count": 119,
   "id": "1a72aa99",
   "metadata": {},
   "outputs": [
    {
     "name": "stdout",
     "output_type": "stream",
     "text": [
      "El mayor es 11\n"
     ]
    }
   ],
   "source": [
    "print (\"El mayor es {}\". format(obtenerMayorv2(11,6)))"
   ]
  },
  {
   "cell_type": "markdown",
   "id": "8f2cac05",
   "metadata": {},
   "source": [
    "Para comparaciones simples. Python no tiene un operador temario (x 7 True: False) pero se puede ocupar con if-else"
   ]
  },
  {
   "cell_type": "code",
   "execution_count": 121,
   "id": "0e222685",
   "metadata": {},
   "outputs": [],
   "source": [
    "def obtenerMayor_idiom(param1, param2):\n",
    "    #La variable valor va a tener el valor de param2 en el if es verdadero\n",
    "    #Delo contarrio tendra el valor en param1\n",
    "    valor=param2 if (param1 <param2) else param1\n",
    "    return valor"
   ]
  },
  {
   "cell_type": "code",
   "execution_count": 122,
   "id": "e18df1c7",
   "metadata": {},
   "outputs": [
    {
     "name": "stdout",
     "output_type": "stream",
     "text": [
      "El mayor es11\n"
     ]
    }
   ],
   "source": [
    "print('El mayor es{}'. format(obtenerMayor_idiom(11,4)))"
   ]
  },
  {
   "cell_type": "markdown",
   "id": "7d089c49",
   "metadata": {},
   "source": [
    "# if-elif-else\n",
    "Este tipo de declaraciones sirve para generar varias casos de prueba. En otros lenguajes es\n",
    "similar a case o switch"
   ]
  },
  {
   "cell_type": "code",
   "execution_count": 125,
   "id": "7f1bb7ec",
   "metadata": {},
   "outputs": [],
   "source": [
    "def numeros(num):\n",
    "    if num==1:\n",
    "        print(\"El número es 1\")\n",
    "    elif num==2:\n",
    "        print(\"El número es 2\")\n",
    "    elif num==3:\n",
    "        print(\"El número es 3\")\n",
    "    elif num==4:\n",
    "        print(\"El número es 4\")\n",
    "    else:\n",
    "        print(\"No hay opción\")"
   ]
  },
  {
   "cell_type": "code",
   "execution_count": 130,
   "id": "053c07fa",
   "metadata": {},
   "outputs": [],
   "source": [
    "def numeros_idiom(num):\n",
    "    if num in (1,2,3,4):\n",
    "        print(\"Tu número es {}\". format(num))\n",
    "    else:\n",
    "        print(\"{} no es una opción\". format (num))"
   ]
  },
  {
   "cell_type": "markdown",
   "id": "8014892a",
   "metadata": {},
   "source": [
    "Estructura de control selectiva anidada"
   ]
  },
  {
   "cell_type": "code",
   "execution_count": 139,
   "id": "91a2ca3b",
   "metadata": {},
   "outputs": [],
   "source": [
    "def obtenerMasGrande (a,b,c):\n",
    "    if a>b:\n",
    "        if a>c:\n",
    "            return a\n",
    "        else:\n",
    "                return c\n",
    "    else:\n",
    "            if b>c:\n",
    "                return b\n",
    "            else:\n",
    "                return c"
   ]
  },
  {
   "cell_type": "code",
   "execution_count": 140,
   "id": "2ce211db",
   "metadata": {},
   "outputs": [
    {
     "name": "stdout",
     "output_type": "stream",
     "text": [
      "El más grande es 13\n"
     ]
    }
   ],
   "source": [
    "print(\"El más grande es {}\". format(obtenerMasGrande(7,13,1)))"
   ]
  },
  {
   "cell_type": "markdown",
   "id": "03305773",
   "metadata": {},
   "source": [
    "# Estructuras de control repetitivas\n",
    "\n",
    "\n",
    "# Ciclo while\n",
    "Un ciclo es la manera de ejecutar una o varias acciones repetidamente. A diferencia de las estructuras IF o IF-ELSE que sólo se ejecutan una vez. Para que el ciclo se ejecute, la condición siempre tiene que ser verdadera."
   ]
  },
  {
   "cell_type": "code",
   "execution_count": 195,
   "id": "1a0e82a2",
   "metadata": {},
   "outputs": [],
   "source": [
    " def cuenta(limite):\n",
    "    i = limite\n",
    "    while True:\n",
    "        print (i)\n",
    "        i = i - 1\n",
    "        if i == 0:\n",
    "            break"
   ]
  },
  {
   "cell_type": "code",
   "execution_count": 196,
   "id": "c8f1a6a4",
   "metadata": {},
   "outputs": [
    {
     "name": "stdout",
     "output_type": "stream",
     "text": [
      "10\n",
      "9\n",
      "8\n",
      "7\n",
      "6\n",
      "5\n",
      "4\n",
      "3\n",
      "2\n",
      "1\n"
     ]
    }
   ],
   "source": [
    "cuenta(10)"
   ]
  },
  {
   "cell_type": "code",
   "execution_count": 197,
   "id": "a3d0f060",
   "metadata": {},
   "outputs": [],
   "source": [
    "def factorial(n):\n",
    "    i=1\n",
    "    tmp =i\n",
    "    while i <n+2:\n",
    "        tmp = tmp*i\n",
    "        i=i+1\n",
    "    return tmp"
   ]
  },
  {
   "cell_type": "code",
   "execution_count": 198,
   "id": "dea00443",
   "metadata": {},
   "outputs": [
    {
     "name": "stdout",
     "output_type": "stream",
     "text": [
      "120\n"
     ]
    }
   ],
   "source": [
    "print(factorial(4))"
   ]
  },
  {
   "cell_type": "code",
   "execution_count": 199,
   "id": "74b1e452",
   "metadata": {},
   "outputs": [
    {
     "name": "stdout",
     "output_type": "stream",
     "text": [
      "5040\n"
     ]
    }
   ],
   "source": [
    "print(factorial(6))"
   ]
  },
  {
   "cell_type": "markdown",
   "id": "b7f3ce55",
   "metadata": {},
   "source": [
    "# Ciclo for\n",
    "\n",
    "Se utiliza generalmente para hacer iteraciones en una lista, diccionarios y arreglos.\n",
    "\n",
    "# Iteración en listas"
   ]
  },
  {
   "cell_type": "code",
   "execution_count": 200,
   "id": "83a10a7f",
   "metadata": {},
   "outputs": [
    {
     "name": "stdout",
     "output_type": "stream",
     "text": [
      "1\n",
      "2\n",
      "3\n",
      "4\n",
      "5\n"
     ]
    }
   ],
   "source": [
    "for x in [1,2,3,4,5]:\n",
    "    print(x)"
   ]
  },
  {
   "cell_type": "code",
   "execution_count": 211,
   "id": "0f775b53",
   "metadata": {},
   "outputs": [
    {
     "name": "stdout",
     "output_type": "stream",
     "text": [
      "0\n",
      "1\n",
      "2\n",
      "3\n",
      "4\n"
     ]
    }
   ],
   "source": [
    "#la función range() sirve para apuntar una lista\n",
    "for x in range(5):\n",
    "    print(x)"
   ]
  },
  {
   "cell_type": "code",
   "execution_count": 212,
   "id": "937759ab",
   "metadata": {},
   "outputs": [
    {
     "name": "stdout",
     "output_type": "stream",
     "text": [
      "-5\n",
      "-4\n",
      "-3\n",
      "-2\n",
      "-1\n",
      "0\n",
      "1\n"
     ]
    }
   ],
   "source": [
    "for x in range (-5,2):\n",
    "    print(x)"
   ]
  },
  {
   "cell_type": "code",
   "execution_count": 213,
   "id": "3bc1d7d6",
   "metadata": {},
   "outputs": [
    {
     "name": "stdout",
     "output_type": "stream",
     "text": [
      "uno\n",
      "dos\n",
      "tres\n",
      "cuatro\n"
     ]
    }
   ],
   "source": [
    "for num in [\"uno\", \"dos\",\"tres\",\"cuatro\"]:\n",
    "    print(num)"
   ]
  },
  {
   "cell_type": "markdown",
   "id": "fc0590a5",
   "metadata": {},
   "source": [
    "# Iteración en diccionarios"
   ]
  },
  {
   "cell_type": "code",
   "execution_count": 218,
   "id": "d4fb102a",
   "metadata": {},
   "outputs": [
    {
     "name": "stdout",
     "output_type": "stream",
     "text": [
      "hidrogeno - 1\n",
      "helio - 2\n",
      "carbon - 4\n"
     ]
    }
   ],
   "source": [
    "# Creando un diccionario\n",
    "elementos = {'hidrogeno': 1, 'helio': 2, 'carbon': 4}\n",
    "\n",
    "for llave, valor in elementos.items():\n",
    "    print(llave, '-', valor)"
   ]
  },
  {
   "cell_type": "code",
   "execution_count": 219,
   "id": "d0079633",
   "metadata": {},
   "outputs": [
    {
     "name": "stdout",
     "output_type": "stream",
     "text": [
      "hidrogeno\n",
      "helio\n",
      "carbon\n"
     ]
    }
   ],
   "source": [
    "# recorre todas las claves de un diccionario e imprime cada una de ellas en la consola.\n",
    "for llave in elementos.keys():\n",
    "    print(llave)"
   ]
  },
  {
   "cell_type": "code",
   "execution_count": 220,
   "id": "56427199",
   "metadata": {},
   "outputs": [
    {
     "name": "stdout",
     "output_type": "stream",
     "text": [
      "1\n",
      "2\n",
      "4\n"
     ]
    }
   ],
   "source": [
    "#Obteniendo solo los valores\n",
    "for valor in elementos.values():\n",
    "    print(valor)"
   ]
  },
  {
   "cell_type": "markdown",
   "id": "9c3ef9ba",
   "metadata": {},
   "source": [
    "En algunos lenguajes de programaciónse crea un indice para iterar un conjunto de elementos.Con python se puede utilizar la función enumerate() en su lugar"
   ]
  },
  {
   "cell_type": "code",
   "execution_count": 221,
   "id": "445ff089",
   "metadata": {},
   "outputs": [
    {
     "name": "stdout",
     "output_type": "stream",
     "text": [
      "El indice es:0 y el elemento hidrogeno\n",
      "El indice es:1 y el elemento helio\n",
      "El indice es:2 y el elemento carbon\n"
     ]
    }
   ],
   "source": [
    "#Si se necesita iterar utilizando un indice\n",
    "for idx, x in enumerate (elementos):\n",
    "    print(\"El indice es:{} y el elemento {}\".format(idx,x))"
   ]
  },
  {
   "cell_type": "markdown",
   "id": "9ce7ff76",
   "metadata": {},
   "source": [
    "Los ciclos for pueden hacer uso del else una vez que terminan iterar, pero no funciona si se rompe el ciclo"
   ]
  },
  {
   "cell_type": "code",
   "execution_count": 223,
   "id": "41297f7b",
   "metadata": {},
   "outputs": [],
   "source": [
    "def cuenta_idiom(limite):\n",
    "    for i in range(limite, 0, -1):\n",
    "        print(i)\n",
    "    else:\n",
    "        print(\"Cuenta finalizada\")"
   ]
  },
  {
   "cell_type": "code",
   "execution_count": 224,
   "id": "f07d51f7",
   "metadata": {},
   "outputs": [
    {
     "name": "stdout",
     "output_type": "stream",
     "text": [
      "5\n",
      "4\n",
      "3\n",
      "2\n",
      "1\n",
      "Cuenta finalizada\n"
     ]
    }
   ],
   "source": [
    "cuenta_idiom(5)"
   ]
  },
  {
   "cell_type": "code",
   "execution_count": 225,
   "id": "a2bf4400",
   "metadata": {},
   "outputs": [],
   "source": [
    "#se rompe el ciclo y la sentencia else del for no se ejecuta\n",
    "def cuenta_idiomv2(limite):\n",
    "    for i in range(limite,0,-1):\n",
    "        print(i)\n",
    "        if i==3:\n",
    "            break\n",
    "    else:\n",
    "        print(\"Cuenta finalizada\")"
   ]
  },
  {
   "cell_type": "code",
   "execution_count": 226,
   "id": "8a7daac2",
   "metadata": {},
   "outputs": [
    {
     "name": "stdout",
     "output_type": "stream",
     "text": [
      "5\n",
      "4\n",
      "3\n"
     ]
    }
   ],
   "source": [
    "cuenta_idiomv2(5)"
   ]
  },
  {
   "cell_type": "markdown",
   "id": "661a1a22",
   "metadata": {},
   "source": [
    "# Bibliotecas\n",
    "\n",
    "Todas las funcionalidades de Python son proporcionadas a través de bibliotecas que se encuentran en la colección de The Python Standard Library, la mayoría de estas bibliotecas son multi-plataforma."
   ]
  },
  {
   "cell_type": "code",
   "execution_count": 228,
   "id": "5efa1d0d",
   "metadata": {},
   "outputs": [
    {
     "name": "stdout",
     "output_type": "stream",
     "text": [
      "-1.0\n"
     ]
    }
   ],
   "source": [
    "#Para utilizar una biblioteca, se debe de importar\n",
    "import math\n",
    "\n",
    "x = math.cos(math.pi)\n",
    "\n",
    "print(x)"
   ]
  },
  {
   "cell_type": "code",
   "execution_count": 229,
   "id": "f8534238",
   "metadata": {},
   "outputs": [
    {
     "name": "stdout",
     "output_type": "stream",
     "text": [
      "-1.0\n"
     ]
    }
   ],
   "source": [
    "#Tambien se pueden importar todas las funciones de las bibliotecas, de esta manera no se tiene que usar el prefijo de la biblio\n",
    "from math import *\n",
    "\n",
    "x=cos(pi)\n",
    "\n",
    "print(x)"
   ]
  },
  {
   "cell_type": "code",
   "execution_count": 231,
   "id": "70d5b6d9",
   "metadata": {},
   "outputs": [
    {
     "name": "stdout",
     "output_type": "stream",
     "text": [
      "-1.0\n"
     ]
    }
   ],
   "source": [
    "#Otra manera es solo importar la funciones que se necesitan\n",
    "from math import cos, pi\n",
    "\n",
    "x=cos(pi)\n",
    "\n",
    "print(x)"
   ]
  },
  {
   "cell_type": "code",
   "execution_count": 233,
   "id": "03a39f40",
   "metadata": {},
   "outputs": [
    {
     "name": "stdout",
     "output_type": "stream",
     "text": [
      "['__doc__', '__loader__', '__name__', '__package__', '__spec__', 'acos', 'acosh', 'asin', 'asinh', 'atan', 'atan2', 'atanh', 'cbrt', 'ceil', 'comb', 'copysign', 'cos', 'cosh', 'degrees', 'dist', 'e', 'erf', 'erfc', 'exp', 'exp2', 'expm1', 'fabs', 'factorial', 'floor', 'fmod', 'frexp', 'fsum', 'gamma', 'gcd', 'hypot', 'inf', 'isclose', 'isfinite', 'isinf', 'isnan', 'isqrt', 'lcm', 'ldexp', 'lgamma', 'log', 'log10', 'log1p', 'log2', 'modf', 'nan', 'nextafter', 'perm', 'pi', 'pow', 'prod', 'radians', 'remainder', 'sin', 'sinh', 'sqrt', 'tan', 'tanh', 'tau', 'trunc', 'ulp']\n"
     ]
    }
   ],
   "source": [
    "#Una vez que la biblioteca esta importada, se pueden conocer las funcionesque este contiene\n",
    "print(dir(math))"
   ]
  },
  {
   "cell_type": "code",
   "execution_count": 234,
   "id": "3bd650ed",
   "metadata": {},
   "outputs": [
    {
     "name": "stdout",
     "output_type": "stream",
     "text": [
      "Help on built-in function log in module math:\n",
      "\n",
      "log(...)\n",
      "    log(x, [base=math.e])\n",
      "    Return the logarithm of x to the given base.\n",
      "    \n",
      "    If the base not specified, returns the natural logarithm (base e) of x.\n",
      "\n"
     ]
    }
   ],
   "source": [
    "#Para conocer como utilizar las funciones , se puede utilizar la funcion helo\n",
    "help(math.log)"
   ]
  },
  {
   "cell_type": "code",
   "execution_count": 235,
   "id": "1bac2ccf",
   "metadata": {},
   "outputs": [
    {
     "name": "stdout",
     "output_type": "stream",
     "text": [
      "-1.0\n"
     ]
    }
   ],
   "source": [
    "#Se puede definir un alias para llamar a las funciones que tiene la biblioteca math\n",
    "import math as ma\n",
    "\n",
    "x= ma.cos(ma.pi)\n",
    "\n",
    "print(x)"
   ]
  },
  {
   "cell_type": "markdown",
   "id": "58fc446c",
   "metadata": {},
   "source": [
    "# Graficación\n",
    "\n",
    "Matplotlib (http://matplotlib.org/) es una biblioteca usada para generar gráficas en 2D y\n",
    "3D, donde cada una de las configuraciones de la gráfica es programable. "
   ]
  },
  {
   "cell_type": "code",
   "execution_count": 247,
   "id": "3ffeadd9",
   "metadata": {},
   "outputs": [
    {
     "ename": "ModuleNotFoundError",
     "evalue": "No module named 'matplotlib'",
     "output_type": "error",
     "traceback": [
      "\u001b[1;31m---------------------------------------------------------------------------\u001b[0m",
      "\u001b[1;31mModuleNotFoundError\u001b[0m                       Traceback (most recent call last)",
      "Cell \u001b[1;32mIn[247], line 1\u001b[0m\n\u001b[1;32m----> 1\u001b[0m \u001b[43mget_ipython\u001b[49m\u001b[43m(\u001b[49m\u001b[43m)\u001b[49m\u001b[38;5;241;43m.\u001b[39;49m\u001b[43mrun_line_magic\u001b[49m\u001b[43m(\u001b[49m\u001b[38;5;124;43m'\u001b[39;49m\u001b[38;5;124;43mpylab\u001b[39;49m\u001b[38;5;124;43m'\u001b[39;49m\u001b[43m,\u001b[49m\u001b[43m \u001b[49m\u001b[38;5;124;43m'\u001b[39;49m\u001b[38;5;124;43minline\u001b[39;49m\u001b[38;5;124;43m'\u001b[39;49m\u001b[43m)\u001b[49m\n",
      "File \u001b[1;32m~\\AppData\\Local\\Programs\\Python\\Python311\\Lib\\site-packages\\IPython\\core\\interactiveshell.py:2417\u001b[0m, in \u001b[0;36mInteractiveShell.run_line_magic\u001b[1;34m(self, magic_name, line, _stack_depth)\u001b[0m\n\u001b[0;32m   2415\u001b[0m     kwargs[\u001b[38;5;124m'\u001b[39m\u001b[38;5;124mlocal_ns\u001b[39m\u001b[38;5;124m'\u001b[39m] \u001b[38;5;241m=\u001b[39m \u001b[38;5;28mself\u001b[39m\u001b[38;5;241m.\u001b[39mget_local_scope(stack_depth)\n\u001b[0;32m   2416\u001b[0m \u001b[38;5;28;01mwith\u001b[39;00m \u001b[38;5;28mself\u001b[39m\u001b[38;5;241m.\u001b[39mbuiltin_trap:\n\u001b[1;32m-> 2417\u001b[0m     result \u001b[38;5;241m=\u001b[39m \u001b[43mfn\u001b[49m\u001b[43m(\u001b[49m\u001b[38;5;241;43m*\u001b[39;49m\u001b[43margs\u001b[49m\u001b[43m,\u001b[49m\u001b[43m \u001b[49m\u001b[38;5;241;43m*\u001b[39;49m\u001b[38;5;241;43m*\u001b[39;49m\u001b[43mkwargs\u001b[49m\u001b[43m)\u001b[49m\n\u001b[0;32m   2419\u001b[0m \u001b[38;5;66;03m# The code below prevents the output from being displayed\u001b[39;00m\n\u001b[0;32m   2420\u001b[0m \u001b[38;5;66;03m# when using magics with decodator @output_can_be_silenced\u001b[39;00m\n\u001b[0;32m   2421\u001b[0m \u001b[38;5;66;03m# when the last Python token in the expression is a ';'.\u001b[39;00m\n\u001b[0;32m   2422\u001b[0m \u001b[38;5;28;01mif\u001b[39;00m \u001b[38;5;28mgetattr\u001b[39m(fn, magic\u001b[38;5;241m.\u001b[39mMAGIC_OUTPUT_CAN_BE_SILENCED, \u001b[38;5;28;01mFalse\u001b[39;00m):\n",
      "File \u001b[1;32m~\\AppData\\Local\\Programs\\Python\\Python311\\Lib\\site-packages\\IPython\\core\\magics\\pylab.py:155\u001b[0m, in \u001b[0;36mPylabMagics.pylab\u001b[1;34m(self, line)\u001b[0m\n\u001b[0;32m    151\u001b[0m \u001b[38;5;28;01melse\u001b[39;00m:\n\u001b[0;32m    152\u001b[0m     \u001b[38;5;66;03m# invert no-import flag\u001b[39;00m\n\u001b[0;32m    153\u001b[0m     import_all \u001b[38;5;241m=\u001b[39m \u001b[38;5;129;01mnot\u001b[39;00m args\u001b[38;5;241m.\u001b[39mno_import_all\n\u001b[1;32m--> 155\u001b[0m gui, backend, clobbered \u001b[38;5;241m=\u001b[39m \u001b[38;5;28;43mself\u001b[39;49m\u001b[38;5;241;43m.\u001b[39;49m\u001b[43mshell\u001b[49m\u001b[38;5;241;43m.\u001b[39;49m\u001b[43menable_pylab\u001b[49m\u001b[43m(\u001b[49m\u001b[43margs\u001b[49m\u001b[38;5;241;43m.\u001b[39;49m\u001b[43mgui\u001b[49m\u001b[43m,\u001b[49m\u001b[43m \u001b[49m\u001b[43mimport_all\u001b[49m\u001b[38;5;241;43m=\u001b[39;49m\u001b[43mimport_all\u001b[49m\u001b[43m)\u001b[49m\n\u001b[0;32m    156\u001b[0m \u001b[38;5;28mself\u001b[39m\u001b[38;5;241m.\u001b[39m_show_matplotlib_backend(args\u001b[38;5;241m.\u001b[39mgui, backend)\n\u001b[0;32m    157\u001b[0m \u001b[38;5;28mprint\u001b[39m(\n\u001b[0;32m    158\u001b[0m     \u001b[38;5;124m\"\u001b[39m\u001b[38;5;124m%\u001b[39m\u001b[38;5;124mpylab is deprecated, use \u001b[39m\u001b[38;5;124m%\u001b[39m\u001b[38;5;124mmatplotlib inline and import the required libraries.\u001b[39m\u001b[38;5;124m\"\u001b[39m\n\u001b[0;32m    159\u001b[0m )\n",
      "File \u001b[1;32m~\\AppData\\Local\\Programs\\Python\\Python311\\Lib\\site-packages\\IPython\\core\\interactiveshell.py:3642\u001b[0m, in \u001b[0;36mInteractiveShell.enable_pylab\u001b[1;34m(self, gui, import_all, welcome_message)\u001b[0m\n\u001b[0;32m   3615\u001b[0m \u001b[38;5;250m\u001b[39m\u001b[38;5;124;03m\"\"\"Activate pylab support at runtime.\u001b[39;00m\n\u001b[0;32m   3616\u001b[0m \n\u001b[0;32m   3617\u001b[0m \u001b[38;5;124;03mThis turns on support for matplotlib, preloads into the interactive\u001b[39;00m\n\u001b[1;32m   (...)\u001b[0m\n\u001b[0;32m   3638\u001b[0m \u001b[38;5;124;03m    This argument is ignored, no welcome message will be displayed.\u001b[39;00m\n\u001b[0;32m   3639\u001b[0m \u001b[38;5;124;03m\"\"\"\u001b[39;00m\n\u001b[0;32m   3640\u001b[0m \u001b[38;5;28;01mfrom\u001b[39;00m \u001b[38;5;21;01mIPython\u001b[39;00m\u001b[38;5;21;01m.\u001b[39;00m\u001b[38;5;21;01mcore\u001b[39;00m\u001b[38;5;21;01m.\u001b[39;00m\u001b[38;5;21;01mpylabtools\u001b[39;00m \u001b[38;5;28;01mimport\u001b[39;00m import_pylab\n\u001b[1;32m-> 3642\u001b[0m gui, backend \u001b[38;5;241m=\u001b[39m \u001b[38;5;28;43mself\u001b[39;49m\u001b[38;5;241;43m.\u001b[39;49m\u001b[43menable_matplotlib\u001b[49m\u001b[43m(\u001b[49m\u001b[43mgui\u001b[49m\u001b[43m)\u001b[49m\n\u001b[0;32m   3644\u001b[0m \u001b[38;5;66;03m# We want to prevent the loading of pylab to pollute the user's\u001b[39;00m\n\u001b[0;32m   3645\u001b[0m \u001b[38;5;66;03m# namespace as shown by the %who* magics, so we execute the activation\u001b[39;00m\n\u001b[0;32m   3646\u001b[0m \u001b[38;5;66;03m# code in an empty namespace, and we update *both* user_ns and\u001b[39;00m\n\u001b[0;32m   3647\u001b[0m \u001b[38;5;66;03m# user_ns_hidden with this information.\u001b[39;00m\n\u001b[0;32m   3648\u001b[0m ns \u001b[38;5;241m=\u001b[39m {}\n",
      "File \u001b[1;32m~\\AppData\\Local\\Programs\\Python\\Python311\\Lib\\site-packages\\IPython\\core\\interactiveshell.py:3588\u001b[0m, in \u001b[0;36mInteractiveShell.enable_matplotlib\u001b[1;34m(self, gui)\u001b[0m\n\u001b[0;32m   3567\u001b[0m \u001b[38;5;28;01mdef\u001b[39;00m \u001b[38;5;21menable_matplotlib\u001b[39m(\u001b[38;5;28mself\u001b[39m, gui\u001b[38;5;241m=\u001b[39m\u001b[38;5;28;01mNone\u001b[39;00m):\n\u001b[0;32m   3568\u001b[0m \u001b[38;5;250m    \u001b[39m\u001b[38;5;124;03m\"\"\"Enable interactive matplotlib and inline figure support.\u001b[39;00m\n\u001b[0;32m   3569\u001b[0m \n\u001b[0;32m   3570\u001b[0m \u001b[38;5;124;03m    This takes the following steps:\u001b[39;00m\n\u001b[1;32m   (...)\u001b[0m\n\u001b[0;32m   3586\u001b[0m \u001b[38;5;124;03m        display figures inline.\u001b[39;00m\n\u001b[0;32m   3587\u001b[0m \u001b[38;5;124;03m    \"\"\"\u001b[39;00m\n\u001b[1;32m-> 3588\u001b[0m     \u001b[38;5;28;01mfrom\u001b[39;00m \u001b[38;5;21;01mmatplotlib_inline\u001b[39;00m\u001b[38;5;21;01m.\u001b[39;00m\u001b[38;5;21;01mbackend_inline\u001b[39;00m \u001b[38;5;28;01mimport\u001b[39;00m configure_inline_support\n\u001b[0;32m   3590\u001b[0m     \u001b[38;5;28;01mfrom\u001b[39;00m \u001b[38;5;21;01mIPython\u001b[39;00m\u001b[38;5;21;01m.\u001b[39;00m\u001b[38;5;21;01mcore\u001b[39;00m \u001b[38;5;28;01mimport\u001b[39;00m pylabtools \u001b[38;5;28;01mas\u001b[39;00m pt\n\u001b[0;32m   3591\u001b[0m     gui, backend \u001b[38;5;241m=\u001b[39m pt\u001b[38;5;241m.\u001b[39mfind_gui_and_backend(gui, \u001b[38;5;28mself\u001b[39m\u001b[38;5;241m.\u001b[39mpylab_gui_select)\n",
      "File \u001b[1;32m~\\AppData\\Local\\Programs\\Python\\Python311\\Lib\\site-packages\\matplotlib_inline\\__init__.py:1\u001b[0m\n\u001b[1;32m----> 1\u001b[0m \u001b[38;5;28;01mfrom\u001b[39;00m \u001b[38;5;21;01m.\u001b[39;00m \u001b[38;5;28;01mimport\u001b[39;00m backend_inline, config  \u001b[38;5;66;03m# noqa\u001b[39;00m\n\u001b[0;32m      2\u001b[0m __version__ \u001b[38;5;241m=\u001b[39m \u001b[38;5;124m\"\u001b[39m\u001b[38;5;124m0.1.6\u001b[39m\u001b[38;5;124m\"\u001b[39m  \u001b[38;5;66;03m# noqa\u001b[39;00m\n",
      "File \u001b[1;32m~\\AppData\\Local\\Programs\\Python\\Python311\\Lib\\site-packages\\matplotlib_inline\\backend_inline.py:6\u001b[0m\n\u001b[0;32m      1\u001b[0m \u001b[38;5;124;03m\"\"\"A matplotlib backend for publishing figures via display_data\"\"\"\u001b[39;00m\n\u001b[0;32m      3\u001b[0m \u001b[38;5;66;03m# Copyright (c) IPython Development Team.\u001b[39;00m\n\u001b[0;32m      4\u001b[0m \u001b[38;5;66;03m# Distributed under the terms of the BSD 3-Clause License.\u001b[39;00m\n\u001b[1;32m----> 6\u001b[0m \u001b[38;5;28;01mimport\u001b[39;00m \u001b[38;5;21;01mmatplotlib\u001b[39;00m\n\u001b[0;32m      7\u001b[0m \u001b[38;5;28;01mfrom\u001b[39;00m \u001b[38;5;21;01mmatplotlib\u001b[39;00m \u001b[38;5;28;01mimport\u001b[39;00m colors\n\u001b[0;32m      8\u001b[0m \u001b[38;5;28;01mfrom\u001b[39;00m \u001b[38;5;21;01mmatplotlib\u001b[39;00m\u001b[38;5;21;01m.\u001b[39;00m\u001b[38;5;21;01mbackends\u001b[39;00m \u001b[38;5;28;01mimport\u001b[39;00m backend_agg\n",
      "\u001b[1;31mModuleNotFoundError\u001b[0m: No module named 'matplotlib'"
     ]
    }
   ],
   "source": [
    "%pylab inline"
   ]
  },
  {
   "cell_type": "code",
   "execution_count": 248,
   "id": "0e5212f3",
   "metadata": {},
   "outputs": [
    {
     "ename": "ModuleNotFoundError",
     "evalue": "No module named 'matplotlib'",
     "output_type": "error",
     "traceback": [
      "\u001b[1;31m---------------------------------------------------------------------------\u001b[0m",
      "\u001b[1;31mModuleNotFoundError\u001b[0m                       Traceback (most recent call last)",
      "Cell \u001b[1;32mIn[248], line 2\u001b[0m\n\u001b[0;32m      1\u001b[0m \u001b[38;5;66;03m#Importando las bibliotecas\u001b[39;00m\n\u001b[1;32m----> 2\u001b[0m \u001b[38;5;28;01mimport\u001b[39;00m \u001b[38;5;21;01mmatplotlib\u001b[39;00m\u001b[38;5;21;01m.\u001b[39;00m\u001b[38;5;21;01mpyplot\u001b[39;00m \u001b[38;5;28;01mas\u001b[39;00m \u001b[38;5;21;01mplt\u001b[39;00m\n\u001b[0;32m      3\u001b[0m \u001b[38;5;28;01mfrom\u001b[39;00m \u001b[38;5;21;01mmpl_toolkits\u001b[39;00m\u001b[38;5;21;01m.\u001b[39;00m\u001b[38;5;21;01mmplot3d\u001b[39;00m \u001b[38;5;28;01mimport\u001b[39;00m Axes3D\n",
      "\u001b[1;31mModuleNotFoundError\u001b[0m: No module named 'matplotlib'"
     ]
    }
   ],
   "source": [
    "#Importando las bibliotecas\n",
    "import matplotlib.pyplot as plt\n",
    "from mpl_toolkits.mplot3d import Axes3D"
   ]
  },
  {
   "cell_type": "code",
   "execution_count": 249,
   "id": "6bbad828",
   "metadata": {},
   "outputs": [
    {
     "ename": "NameError",
     "evalue": "name 'linspace' is not defined",
     "output_type": "error",
     "traceback": [
      "\u001b[1;31m---------------------------------------------------------------------------\u001b[0m",
      "\u001b[1;31mNameError\u001b[0m                                 Traceback (most recent call last)",
      "Cell \u001b[1;32mIn[249], line 2\u001b[0m\n\u001b[0;32m      1\u001b[0m \u001b[38;5;66;03m#Datos de entrada\u001b[39;00m\n\u001b[1;32m----> 2\u001b[0m x \u001b[38;5;241m=\u001b[39m \u001b[43mlinspace\u001b[49m(\u001b[38;5;241m0\u001b[39m, \u001b[38;5;241m5\u001b[39m, \u001b[38;5;241m20\u001b[39m) \u001b[38;5;66;03m#Generando 10 puntos entre 0 y 5\u001b[39;00m\n",
      "\u001b[1;31mNameError\u001b[0m: name 'linspace' is not defined"
     ]
    }
   ],
   "source": [
    "#Datos de entrada\n",
    "x = linspace(0, 5, 20) #Generando 10 puntos entre 0 y 5"
   ]
  },
  {
   "cell_type": "code",
   "execution_count": null,
   "id": "251b47f9",
   "metadata": {},
   "outputs": [],
   "source": [
    "fig, ax = plt.subplots(facecolor='w', edgecolor='k')\n",
    "ax.plot(x, sin(x), marker=\"o\",color=\"r\", linestyle='None')\n",
    "\n",
    "ax.grid(True)\n",
    "ax.set_xlabel('X')  #Etiqueta del eje x\n",
    "ax.set_ylabel('Y')  #Etiqueta del eje y\n",
    "ax.grid(True)\n",
    "ax.legend([\"y = x**2\"])\n",
    "\n",
    "plt.title('Puntos')\n",
    "plt.show()\n",
    "\n",
    "fig.savefig(\"gráfica.png\") #Guardando la gráfica"
   ]
  }
 ],
 "metadata": {
  "kernelspec": {
   "display_name": "Python 3 (ipykernel)",
   "language": "python",
   "name": "python3"
  },
  "language_info": {
   "codemirror_mode": {
    "name": "ipython",
    "version": 3
   },
   "file_extension": ".py",
   "mimetype": "text/x-python",
   "name": "python",
   "nbconvert_exporter": "python",
   "pygments_lexer": "ipython3",
   "version": "3.11.3"
  }
 },
 "nbformat": 4,
 "nbformat_minor": 5
}
